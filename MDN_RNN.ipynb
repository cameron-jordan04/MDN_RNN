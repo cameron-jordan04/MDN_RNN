{
 "cells": [
  {
   "cell_type": "markdown",
   "metadata": {},
   "source": [
    "#### RNN Class Definition"
   ]
  },
  {
   "cell_type": "code",
   "execution_count": 49,
   "metadata": {},
   "outputs": [],
   "source": [
    "SAMPLE_RATE = 60  # Sampling rate in Hz\n",
    "SEQ_LEN = 8 * SAMPLE_RATE  # Number of time steps (6 seconds with 60 Hz sampling)\n",
    "MEAN_DURATION = 0.5  # Mean of exponential distribution (in seconds)\n",
    "TIME_STEPS = SEQ_LEN  # Total time steps in the trial\n",
    "\n",
    "WAIT_TIMES = {0.0:7.0, 0.2:5.0, 0.8:3.0, 1.0:1.0}\n",
    "\n",
    "import torch\n",
    "import numpy as np\n",
    "import numpy.random as npr\n",
    "import matplotlib.pyplot as plt\n",
    "import torch.nn as nn\n",
    "import torch.optim as optim\n",
    "from torch.utils.data import Dataset, DataLoader\n",
    "from torch.optim.lr_scheduler import CosineAnnealingLR\n",
    "from tqdm import tqdm"
   ]
  },
  {
   "cell_type": "markdown",
   "metadata": {},
   "source": [
    "#### Network Implementation"
   ]
  },
  {
   "cell_type": "code",
   "execution_count": 45,
   "metadata": {},
   "outputs": [],
   "source": [
    "class MDN_RNN(nn.Module):\n",
    "    def __init__(self, hidden_size, input_size=1, output_size=3, num_gaussians=2):\n",
    "        super(MDN_RNN, self).__init__()\n",
    "        self.hidden_size = hidden_size\n",
    "        self.input_size = input_size\n",
    "        self.output_size = output_size\n",
    "        self.num_gaussians = num_gaussians\n",
    "        \n",
    "        # Recurrent Layers\n",
    "        self.w = nn.Linear(in_features=self.input_size, out_features=self.hidden_size)\n",
    "        self.rnn = nn.LSTM(input_size=self.hidden_size, hidden_size=self.hidden_size, num_layers=1, batch_first=True) # dropout=0.1\n",
    "\n",
    "        # Mixture Density Output Layers\n",
    "        self.pi = nn.Linear(in_features=self.hidden_size, out_features=self.num_gaussians) # Mixture coefficients\n",
    "        self.mu = nn.Linear(in_features=self.hidden_size, out_features=self.output_size * self.num_gaussians) # Means (outputs)\n",
    "        self.sigma = nn.Linear(in_features=self.hidden_size, out_features=self.output_size * self.num_gaussians) # Std Dev (uncertainties)\n",
    "\n",
    "        self.relu = nn.ReLU()\n",
    "        self.tanh = nn.Tanh()\n",
    "        self.softmax = nn.Softmax(dim=2)\n",
    "        self.dropout = nn.Dropout(p=0.2)\n",
    "\n",
    "        self.apply(self._init_weights)\n",
    "\n",
    "    def _init_weights(self, module):\n",
    "        if isinstance(module, nn.Linear):\n",
    "            nn.init.xavier_uniform_(module.weight)\n",
    "        elif isinstance(module, nn.LSTM):\n",
    "            for name, param in module.named_parameters():\n",
    "                if 'weight' in name:\n",
    "                    nn.init.orthogonal_(param)\n",
    "\n",
    "    def forward(self, x):\n",
    "        # Recurrent Layer Output\n",
    "        x = x.unsqueeze(-1)\n",
    "\n",
    "        layer_1 = self.tanh(self.w(x).squeeze(-1))\n",
    "        h, _ = self.rnn(layer_1)\n",
    "\n",
    "        # Mixture Density Output Layers\n",
    "        pi = nn.functional.softmax(self.pi(h).view(h.size(0), h.size(1), self.num_gaussians), dim=-1)\n",
    "        \n",
    "        mu = self.mu(h).view(h.size(0), h.size(1), self.output_size, self.num_gaussians)\n",
    "        mu = nn.functional.softmax(mu, dim=-2)  # Softmax over state components (accumulation, accept, reject)\n",
    "        \n",
    "        sigma = torch.exp(torch.clamp(self.sigma(h).view(h.size(0), h.size(1), self.output_size, self.num_gaussians), min=-100, max=100))\n",
    "        sigma = nn.functional.softplus(sigma)\n",
    "\n",
    "        return pi, mu, sigma\n"
   ]
  },
  {
   "cell_type": "code",
   "execution_count": 33,
   "metadata": {},
   "outputs": [],
   "source": [
    "def mdn_loss(pi, mu, sigma, targets):\n",
    "    targets = targets.unsqueeze(-1).expand_as(mu)  # Match shape for mixture components\n",
    "\n",
    "    pi = pi.unsqueeze(-2).expand_as(mu) # Reshape pi to use the same mixing coefficients for all outputs\n",
    "\n",
    "    dist = torch.distributions.Normal(mu, sigma)\n",
    "\n",
    "    likelihood = torch.exp(dist.log_prob(targets))  # Probability density\n",
    "\n",
    "    weighted_likelihood = torch.sum(pi * likelihood, dim=-1)\n",
    "\n",
    "    loss = -torch.log(weighted_likelihood).mean()  # Negative log-likelihood\n",
    "\n",
    "    return loss"
   ]
  },
  {
   "cell_type": "markdown",
   "metadata": {},
   "source": [
    "#### Training Data"
   ]
  },
  {
   "cell_type": "code",
   "execution_count": 52,
   "metadata": {},
   "outputs": [],
   "source": [
    "def sigmoid_time_series(seq_len=30, center=15, width=10):\n",
    "    # Create a time index array from 0 to seq_len-1.\n",
    "    t = np.arange(seq_len)\n",
    "    # Calculate the sigmoid function. The factor 4 ensures that the transition occurs\n",
    "    # roughly over an interval of `width` time steps.\n",
    "    sigmoid_values = 1 / (1 + np.exp(-4 * (t - center) / width))\n",
    "    return sigmoid_values\n",
    "\n",
    "class TrialDataset(Dataset):\n",
    "    def __init__(self, num_samples, seq_len=SEQ_LEN, sample_rate=SAMPLE_RATE, mean_duration=MEAN_DURATION):\n",
    "        self.num_samples = num_samples\n",
    "        self.seq_len = seq_len\n",
    "        self.sample_rate = sample_rate\n",
    "        self.mean_duration = mean_duration\n",
    "\n",
    "    def __len__(self):\n",
    "        return self.num_samples\n",
    "\n",
    "    def __getitem__(self, idx):\n",
    "        # Determine the decision time ~Exp(MEAN_DURATION)\n",
    "        decision_time = int(np.random.exponential(self.mean_duration) * self.sample_rate) + 20\n",
    "        decision_time += np.random.randint(-5, 5)\n",
    "        decision_time = np.clip(decision_time, 0, self.seq_len) # increase variability in training \n",
    "\n",
    "        ### Generate input probability p and input sequence ###\n",
    "        p = 0\n",
    "        p = np.random.choice([0.0, 0.2, 0.8, 1.0])\n",
    "\n",
    "        # Create target decision\n",
    "        decision = 0\n",
    "        if np.random.rand() <= p:\n",
    "            decision = 1\n",
    "        \n",
    "        time = np.arange(self.seq_len) / self.sample_rate  # Time array in seconds\n",
    "\n",
    "        inputs = np.full(self.seq_len, p - 0.5)\n",
    "\n",
    "        ### Create outputs ###\n",
    "        evidence_accumulation, accept, reject = np.zeros(self.seq_len), np.zeros(self.seq_len), np.zeros(self.seq_len)\n",
    "\n",
    "        sigmoid_time_segment = sigmoid_time_series()\n",
    "        \n",
    "        if decision == 1:\n",
    "            # gamma parameters: shape = (mean ** 2) / variance, scale = variance / mean\n",
    "            wait_time = int((WAIT_TIMES[p] + np.random.gamma((0.1 ** 2) / 0.05, 0.05 / 0.1 )) * self.sample_rate)\n",
    "            end_trial = min(wait_time + decision_time, self.seq_len - 30)\n",
    "\n",
    "            evidence_accumulation[:decision_time - 15] = 1\n",
    "            evidence_accumulation[decision_time - 15: decision_time + 15] = sigmoid_time_segment[::-1]\n",
    "            accept[decision_time - 15: decision_time + 15] = sigmoid_time_segment\n",
    "            accept[decision_time + 15:end_trial - 15] = 1\n",
    "            accept[end_trial - 15: end_trial + 15] = sigmoid_time_segment[::-1]\n",
    "            reject[end_trial - 15: end_trial + 15] = sigmoid_time_segment\n",
    "            reject[end_trial + 15:] = 1\n",
    "        else:\n",
    "            evidence_accumulation[:decision_time - 15] = 1\n",
    "            evidence_accumulation[decision_time - 15: decision_time + 15] = sigmoid_time_segment[::-1]\n",
    "            reject[decision_time - 15: decision_time + 15] = sigmoid_time_segment\n",
    "            reject[decision_time + 15:] = 1\n",
    "\n",
    "        target_outputs = np.stack((evidence_accumulation, accept, reject), axis=1)\n",
    "\n",
    "        # Convert to PyTorch tensors\n",
    "        inputs = torch.tensor(inputs, dtype=torch.float32)\n",
    "        targets = torch.tensor(target_outputs, dtype=torch.float32)\n",
    "        \n",
    "        return inputs, targets\n"
   ]
  },
  {
   "cell_type": "markdown",
   "metadata": {},
   "source": [
    "#### Training Pass"
   ]
  },
  {
   "cell_type": "code",
   "execution_count": 53,
   "metadata": {},
   "outputs": [
    {
     "name": "stderr",
     "output_type": "stream",
     "text": [
      "                                                              \r"
     ]
    },
    {
     "name": "stdout",
     "output_type": "stream",
     "text": [
      "Epoch 1/100, Loss: 0.6835\n"
     ]
    },
    {
     "name": "stderr",
     "output_type": "stream",
     "text": [
      "                                                              \r"
     ]
    },
    {
     "name": "stdout",
     "output_type": "stream",
     "text": [
      "Epoch 2/100, Loss: 0.6438\n"
     ]
    },
    {
     "name": "stderr",
     "output_type": "stream",
     "text": [
      "                                                              \r"
     ]
    },
    {
     "name": "stdout",
     "output_type": "stream",
     "text": [
      "Epoch 3/100, Loss: 0.6275\n"
     ]
    },
    {
     "name": "stderr",
     "output_type": "stream",
     "text": [
      "                                                              \r"
     ]
    },
    {
     "name": "stdout",
     "output_type": "stream",
     "text": [
      "Epoch 4/100, Loss: 0.6260\n"
     ]
    },
    {
     "name": "stderr",
     "output_type": "stream",
     "text": [
      "                                                              \r"
     ]
    },
    {
     "name": "stdout",
     "output_type": "stream",
     "text": [
      "Epoch 5/100, Loss: 0.6150\n"
     ]
    },
    {
     "name": "stderr",
     "output_type": "stream",
     "text": [
      "                                                              \r"
     ]
    },
    {
     "name": "stdout",
     "output_type": "stream",
     "text": [
      "Epoch 6/100, Loss: 0.6135\n"
     ]
    },
    {
     "name": "stderr",
     "output_type": "stream",
     "text": [
      "                                                              \r"
     ]
    },
    {
     "name": "stdout",
     "output_type": "stream",
     "text": [
      "Epoch 7/100, Loss: 0.6105\n"
     ]
    },
    {
     "name": "stderr",
     "output_type": "stream",
     "text": [
      "                                                              \r"
     ]
    },
    {
     "name": "stdout",
     "output_type": "stream",
     "text": [
      "Epoch 8/100, Loss: 0.6086\n"
     ]
    },
    {
     "name": "stderr",
     "output_type": "stream",
     "text": [
      "                                                              \r"
     ]
    },
    {
     "name": "stdout",
     "output_type": "stream",
     "text": [
      "Epoch 9/100, Loss: 0.6107\n"
     ]
    },
    {
     "name": "stderr",
     "output_type": "stream",
     "text": [
      "                                                               \r"
     ]
    },
    {
     "name": "stdout",
     "output_type": "stream",
     "text": [
      "Epoch 10/100, Loss: 0.6106\n"
     ]
    },
    {
     "name": "stderr",
     "output_type": "stream",
     "text": [
      "                                                               \r"
     ]
    },
    {
     "name": "stdout",
     "output_type": "stream",
     "text": [
      "Epoch 11/100, Loss: 0.6073\n"
     ]
    },
    {
     "name": "stderr",
     "output_type": "stream",
     "text": [
      "                                                                  \r"
     ]
    },
    {
     "name": "stdout",
     "output_type": "stream",
     "text": [
      "Epoch 12/100, Loss: 0.6103\n"
     ]
    },
    {
     "name": "stderr",
     "output_type": "stream",
     "text": [
      "                                                                  \r"
     ]
    },
    {
     "name": "stdout",
     "output_type": "stream",
     "text": [
      "Epoch 13/100, Loss: 0.6120\n"
     ]
    },
    {
     "name": "stderr",
     "output_type": "stream",
     "text": [
      "                                                                 \r"
     ]
    },
    {
     "name": "stdout",
     "output_type": "stream",
     "text": [
      "Epoch 14/100, Loss: 0.6143\n"
     ]
    },
    {
     "name": "stderr",
     "output_type": "stream",
     "text": [
      "                                                                  \r"
     ]
    },
    {
     "name": "stdout",
     "output_type": "stream",
     "text": [
      "Epoch 15/100, Loss: 0.6110\n"
     ]
    },
    {
     "name": "stderr",
     "output_type": "stream",
     "text": [
      "                                                                  \r"
     ]
    },
    {
     "name": "stdout",
     "output_type": "stream",
     "text": [
      "Epoch 16/100, Loss: 0.6060\n"
     ]
    },
    {
     "name": "stderr",
     "output_type": "stream",
     "text": [
      "                                                                  \r"
     ]
    },
    {
     "name": "stdout",
     "output_type": "stream",
     "text": [
      "Epoch 17/100, Loss: 0.6091\n"
     ]
    },
    {
     "name": "stderr",
     "output_type": "stream",
     "text": [
      "                                                                  \r"
     ]
    },
    {
     "name": "stdout",
     "output_type": "stream",
     "text": [
      "Epoch 18/100, Loss: 0.6071\n"
     ]
    },
    {
     "name": "stderr",
     "output_type": "stream",
     "text": [
      "                                                                  \r"
     ]
    },
    {
     "name": "stdout",
     "output_type": "stream",
     "text": [
      "Epoch 19/100, Loss: 0.6085\n"
     ]
    },
    {
     "name": "stderr",
     "output_type": "stream",
     "text": [
      "                                                                 \r"
     ]
    },
    {
     "name": "stdout",
     "output_type": "stream",
     "text": [
      "Epoch 20/100, Loss: 0.6089\n"
     ]
    },
    {
     "name": "stderr",
     "output_type": "stream",
     "text": [
      "                                                                  \r"
     ]
    },
    {
     "name": "stdout",
     "output_type": "stream",
     "text": [
      "Epoch 21/100, Loss: 0.6110\n"
     ]
    },
    {
     "name": "stderr",
     "output_type": "stream",
     "text": [
      "                                                               \r"
     ]
    },
    {
     "name": "stdout",
     "output_type": "stream",
     "text": [
      "Epoch 22/100, Loss: 0.6072\n"
     ]
    },
    {
     "name": "stderr",
     "output_type": "stream",
     "text": [
      "                                                               \r"
     ]
    },
    {
     "name": "stdout",
     "output_type": "stream",
     "text": [
      "Epoch 23/100, Loss: 0.6109\n"
     ]
    },
    {
     "name": "stderr",
     "output_type": "stream",
     "text": [
      "                                                               \r"
     ]
    },
    {
     "name": "stdout",
     "output_type": "stream",
     "text": [
      "Epoch 24/100, Loss: 0.6076\n"
     ]
    },
    {
     "name": "stderr",
     "output_type": "stream",
     "text": [
      "                                                               \r"
     ]
    },
    {
     "name": "stdout",
     "output_type": "stream",
     "text": [
      "Epoch 25/100, Loss: 0.6076\n"
     ]
    },
    {
     "name": "stderr",
     "output_type": "stream",
     "text": [
      "                                                               \r"
     ]
    },
    {
     "name": "stdout",
     "output_type": "stream",
     "text": [
      "Epoch 26/100, Loss: 0.6085\n"
     ]
    },
    {
     "name": "stderr",
     "output_type": "stream",
     "text": [
      "                                                               \r"
     ]
    },
    {
     "name": "stdout",
     "output_type": "stream",
     "text": [
      "Epoch 27/100, Loss: 0.6112\n"
     ]
    },
    {
     "name": "stderr",
     "output_type": "stream",
     "text": [
      "                                                               \r"
     ]
    },
    {
     "name": "stdout",
     "output_type": "stream",
     "text": [
      "Epoch 28/100, Loss: 0.6068\n"
     ]
    },
    {
     "name": "stderr",
     "output_type": "stream",
     "text": [
      "                                                               \r"
     ]
    },
    {
     "name": "stdout",
     "output_type": "stream",
     "text": [
      "Epoch 29/100, Loss: 0.6088\n"
     ]
    },
    {
     "name": "stderr",
     "output_type": "stream",
     "text": [
      "                                                               \r"
     ]
    },
    {
     "name": "stdout",
     "output_type": "stream",
     "text": [
      "Epoch 30/100, Loss: 0.6115\n"
     ]
    },
    {
     "name": "stderr",
     "output_type": "stream",
     "text": [
      "                                                               \r"
     ]
    },
    {
     "name": "stdout",
     "output_type": "stream",
     "text": [
      "Epoch 31/100, Loss: 0.6084\n"
     ]
    },
    {
     "name": "stderr",
     "output_type": "stream",
     "text": [
      "                                                               \r"
     ]
    },
    {
     "name": "stdout",
     "output_type": "stream",
     "text": [
      "Epoch 32/100, Loss: 0.6092\n"
     ]
    },
    {
     "name": "stderr",
     "output_type": "stream",
     "text": [
      "                                                                  \r"
     ]
    },
    {
     "name": "stdout",
     "output_type": "stream",
     "text": [
      "Epoch 33/100, Loss: 0.6095\n"
     ]
    },
    {
     "name": "stderr",
     "output_type": "stream",
     "text": [
      "                                                               \r"
     ]
    },
    {
     "name": "stdout",
     "output_type": "stream",
     "text": [
      "Epoch 34/100, Loss: 0.6091\n"
     ]
    },
    {
     "name": "stderr",
     "output_type": "stream",
     "text": [
      "                                                                \r"
     ]
    },
    {
     "name": "stdout",
     "output_type": "stream",
     "text": [
      "Epoch 35/100, Loss: 0.6083\n"
     ]
    },
    {
     "name": "stderr",
     "output_type": "stream",
     "text": [
      "                                                               \r"
     ]
    },
    {
     "name": "stdout",
     "output_type": "stream",
     "text": [
      "Epoch 36/100, Loss: 0.6065\n"
     ]
    },
    {
     "name": "stderr",
     "output_type": "stream",
     "text": [
      "                                                               \r"
     ]
    },
    {
     "name": "stdout",
     "output_type": "stream",
     "text": [
      "Epoch 37/100, Loss: 0.6123\n"
     ]
    },
    {
     "name": "stderr",
     "output_type": "stream",
     "text": [
      "                                                               \r"
     ]
    },
    {
     "name": "stdout",
     "output_type": "stream",
     "text": [
      "Epoch 38/100, Loss: 0.6108\n"
     ]
    },
    {
     "name": "stderr",
     "output_type": "stream",
     "text": [
      "                                                               \r"
     ]
    },
    {
     "name": "stdout",
     "output_type": "stream",
     "text": [
      "Epoch 39/100, Loss: 0.6059\n"
     ]
    },
    {
     "name": "stderr",
     "output_type": "stream",
     "text": [
      "                                                               \r"
     ]
    },
    {
     "name": "stdout",
     "output_type": "stream",
     "text": [
      "Epoch 40/100, Loss: 0.6097\n"
     ]
    },
    {
     "name": "stderr",
     "output_type": "stream",
     "text": [
      "                                                               \r"
     ]
    },
    {
     "name": "stdout",
     "output_type": "stream",
     "text": [
      "Epoch 41/100, Loss: 0.6083\n"
     ]
    },
    {
     "name": "stderr",
     "output_type": "stream",
     "text": [
      "                                                               \r"
     ]
    },
    {
     "name": "stdout",
     "output_type": "stream",
     "text": [
      "Epoch 42/100, Loss: 0.6046\n"
     ]
    },
    {
     "name": "stderr",
     "output_type": "stream",
     "text": [
      "                                                               \r"
     ]
    },
    {
     "name": "stdout",
     "output_type": "stream",
     "text": [
      "Epoch 43/100, Loss: 0.6065\n"
     ]
    },
    {
     "name": "stderr",
     "output_type": "stream",
     "text": [
      "                                                               \r"
     ]
    },
    {
     "name": "stdout",
     "output_type": "stream",
     "text": [
      "Epoch 44/100, Loss: 0.6061\n"
     ]
    },
    {
     "name": "stderr",
     "output_type": "stream",
     "text": [
      "                                                               \r"
     ]
    },
    {
     "name": "stdout",
     "output_type": "stream",
     "text": [
      "Epoch 45/100, Loss: 0.6053\n"
     ]
    },
    {
     "name": "stderr",
     "output_type": "stream",
     "text": [
      "                                                               \r"
     ]
    },
    {
     "name": "stdout",
     "output_type": "stream",
     "text": [
      "Epoch 46/100, Loss: 0.6092\n"
     ]
    },
    {
     "name": "stderr",
     "output_type": "stream",
     "text": [
      "                                                               \r"
     ]
    },
    {
     "name": "stdout",
     "output_type": "stream",
     "text": [
      "Epoch 47/100, Loss: 0.6083\n"
     ]
    },
    {
     "name": "stderr",
     "output_type": "stream",
     "text": [
      "                                                               \r"
     ]
    },
    {
     "name": "stdout",
     "output_type": "stream",
     "text": [
      "Epoch 48/100, Loss: 0.6120\n"
     ]
    },
    {
     "name": "stderr",
     "output_type": "stream",
     "text": [
      "                                                               \r"
     ]
    },
    {
     "name": "stdout",
     "output_type": "stream",
     "text": [
      "Epoch 49/100, Loss: 0.6063\n"
     ]
    },
    {
     "name": "stderr",
     "output_type": "stream",
     "text": [
      "                                                               \r"
     ]
    },
    {
     "name": "stdout",
     "output_type": "stream",
     "text": [
      "Epoch 50/100, Loss: 0.6073\n"
     ]
    },
    {
     "name": "stderr",
     "output_type": "stream",
     "text": [
      "                                                               \r"
     ]
    },
    {
     "name": "stdout",
     "output_type": "stream",
     "text": [
      "Epoch 51/100, Loss: 0.6066\n"
     ]
    },
    {
     "name": "stderr",
     "output_type": "stream",
     "text": [
      "                                                               \r"
     ]
    },
    {
     "name": "stdout",
     "output_type": "stream",
     "text": [
      "Epoch 52/100, Loss: 0.6060\n"
     ]
    },
    {
     "name": "stderr",
     "output_type": "stream",
     "text": [
      "                                                               \r"
     ]
    },
    {
     "name": "stdout",
     "output_type": "stream",
     "text": [
      "Epoch 53/100, Loss: 0.6093\n"
     ]
    },
    {
     "name": "stderr",
     "output_type": "stream",
     "text": [
      "                                                               \r"
     ]
    },
    {
     "name": "stdout",
     "output_type": "stream",
     "text": [
      "Epoch 54/100, Loss: 0.6066\n"
     ]
    },
    {
     "name": "stderr",
     "output_type": "stream",
     "text": [
      "                                                               \r"
     ]
    },
    {
     "name": "stdout",
     "output_type": "stream",
     "text": [
      "Epoch 55/100, Loss: 0.6088\n"
     ]
    },
    {
     "name": "stderr",
     "output_type": "stream",
     "text": [
      "                                                               \r"
     ]
    },
    {
     "name": "stdout",
     "output_type": "stream",
     "text": [
      "Epoch 56/100, Loss: 0.6064\n"
     ]
    },
    {
     "name": "stderr",
     "output_type": "stream",
     "text": [
      "                                                               \r"
     ]
    },
    {
     "name": "stdout",
     "output_type": "stream",
     "text": [
      "Epoch 57/100, Loss: 0.6099\n"
     ]
    },
    {
     "name": "stderr",
     "output_type": "stream",
     "text": [
      "                                                               \r"
     ]
    },
    {
     "name": "stdout",
     "output_type": "stream",
     "text": [
      "Epoch 58/100, Loss: 0.6064\n"
     ]
    },
    {
     "name": "stderr",
     "output_type": "stream",
     "text": [
      "                                                               \r"
     ]
    },
    {
     "name": "stdout",
     "output_type": "stream",
     "text": [
      "Epoch 59/100, Loss: 0.6061\n"
     ]
    },
    {
     "name": "stderr",
     "output_type": "stream",
     "text": [
      "                                                               \r"
     ]
    },
    {
     "name": "stdout",
     "output_type": "stream",
     "text": [
      "Epoch 60/100, Loss: 0.6065\n"
     ]
    },
    {
     "name": "stderr",
     "output_type": "stream",
     "text": [
      "                                                               \r"
     ]
    },
    {
     "name": "stdout",
     "output_type": "stream",
     "text": [
      "Epoch 61/100, Loss: 0.6055\n"
     ]
    },
    {
     "name": "stderr",
     "output_type": "stream",
     "text": [
      "                                                               \r"
     ]
    },
    {
     "name": "stdout",
     "output_type": "stream",
     "text": [
      "Epoch 62/100, Loss: 0.6068\n"
     ]
    },
    {
     "name": "stderr",
     "output_type": "stream",
     "text": [
      "                                                               \r"
     ]
    },
    {
     "name": "stdout",
     "output_type": "stream",
     "text": [
      "Epoch 63/100, Loss: 0.6074\n"
     ]
    },
    {
     "name": "stderr",
     "output_type": "stream",
     "text": [
      "                                                               \r"
     ]
    },
    {
     "name": "stdout",
     "output_type": "stream",
     "text": [
      "Epoch 64/100, Loss: 0.6067\n"
     ]
    },
    {
     "name": "stderr",
     "output_type": "stream",
     "text": [
      "                                                               \r"
     ]
    },
    {
     "name": "stdout",
     "output_type": "stream",
     "text": [
      "Epoch 65/100, Loss: 0.6077\n"
     ]
    },
    {
     "name": "stderr",
     "output_type": "stream",
     "text": [
      "                                                               \r"
     ]
    },
    {
     "name": "stdout",
     "output_type": "stream",
     "text": [
      "Epoch 66/100, Loss: 0.6042\n"
     ]
    },
    {
     "name": "stderr",
     "output_type": "stream",
     "text": [
      "                                                               \r"
     ]
    },
    {
     "name": "stdout",
     "output_type": "stream",
     "text": [
      "Epoch 67/100, Loss: 0.6076\n"
     ]
    },
    {
     "name": "stderr",
     "output_type": "stream",
     "text": [
      "                                                               \r"
     ]
    },
    {
     "name": "stdout",
     "output_type": "stream",
     "text": [
      "Epoch 68/100, Loss: 0.6072\n"
     ]
    },
    {
     "name": "stderr",
     "output_type": "stream",
     "text": [
      "                                                                  \r"
     ]
    },
    {
     "name": "stdout",
     "output_type": "stream",
     "text": [
      "Epoch 69/100, Loss: 0.6066\n"
     ]
    },
    {
     "name": "stderr",
     "output_type": "stream",
     "text": [
      "                                                                  \r"
     ]
    },
    {
     "name": "stdout",
     "output_type": "stream",
     "text": [
      "Epoch 70/100, Loss: 0.6041\n"
     ]
    },
    {
     "name": "stderr",
     "output_type": "stream",
     "text": [
      "                                                               \r"
     ]
    },
    {
     "name": "stdout",
     "output_type": "stream",
     "text": [
      "Epoch 71/100, Loss: 0.6072\n"
     ]
    },
    {
     "name": "stderr",
     "output_type": "stream",
     "text": [
      "                                                                  \r"
     ]
    },
    {
     "name": "stdout",
     "output_type": "stream",
     "text": [
      "Epoch 72/100, Loss: 0.6069\n"
     ]
    },
    {
     "name": "stderr",
     "output_type": "stream",
     "text": [
      "                                                                  \r"
     ]
    },
    {
     "name": "stdout",
     "output_type": "stream",
     "text": [
      "Epoch 73/100, Loss: 0.6051\n"
     ]
    },
    {
     "name": "stderr",
     "output_type": "stream",
     "text": [
      "                                                                  \r"
     ]
    },
    {
     "name": "stdout",
     "output_type": "stream",
     "text": [
      "Epoch 74/100, Loss: 0.6058\n"
     ]
    },
    {
     "name": "stderr",
     "output_type": "stream",
     "text": [
      "                                                                  \r"
     ]
    },
    {
     "name": "stdout",
     "output_type": "stream",
     "text": [
      "Epoch 75/100, Loss: 0.6069\n"
     ]
    },
    {
     "name": "stderr",
     "output_type": "stream",
     "text": [
      "                                                                  \r"
     ]
    },
    {
     "name": "stdout",
     "output_type": "stream",
     "text": [
      "Epoch 76/100, Loss: 0.6059\n"
     ]
    },
    {
     "name": "stderr",
     "output_type": "stream",
     "text": [
      "                                                                 \r"
     ]
    },
    {
     "name": "stdout",
     "output_type": "stream",
     "text": [
      "Epoch 77/100, Loss: 0.6091\n"
     ]
    },
    {
     "name": "stderr",
     "output_type": "stream",
     "text": [
      "                                                                  \r"
     ]
    },
    {
     "name": "stdout",
     "output_type": "stream",
     "text": [
      "Epoch 78/100, Loss: 0.6080\n"
     ]
    },
    {
     "name": "stderr",
     "output_type": "stream",
     "text": [
      "                                                                  \r"
     ]
    },
    {
     "name": "stdout",
     "output_type": "stream",
     "text": [
      "Epoch 79/100, Loss: 0.6074\n"
     ]
    },
    {
     "name": "stderr",
     "output_type": "stream",
     "text": [
      "                                                                 \r"
     ]
    },
    {
     "name": "stdout",
     "output_type": "stream",
     "text": [
      "Epoch 80/100, Loss: 0.6052\n"
     ]
    },
    {
     "name": "stderr",
     "output_type": "stream",
     "text": [
      "                                                                  \r"
     ]
    },
    {
     "name": "stdout",
     "output_type": "stream",
     "text": [
      "Epoch 81/100, Loss: 0.6064\n"
     ]
    },
    {
     "name": "stderr",
     "output_type": "stream",
     "text": [
      "                                                                  \r"
     ]
    },
    {
     "name": "stdout",
     "output_type": "stream",
     "text": [
      "Epoch 82/100, Loss: 0.6052\n"
     ]
    },
    {
     "name": "stderr",
     "output_type": "stream",
     "text": [
      "                                                               \r"
     ]
    },
    {
     "name": "stdout",
     "output_type": "stream",
     "text": [
      "Epoch 83/100, Loss: 0.6060\n"
     ]
    },
    {
     "name": "stderr",
     "output_type": "stream",
     "text": [
      "                                                               \r"
     ]
    },
    {
     "name": "stdout",
     "output_type": "stream",
     "text": [
      "Epoch 84/100, Loss: 0.6047\n"
     ]
    },
    {
     "name": "stderr",
     "output_type": "stream",
     "text": [
      "                                                               \r"
     ]
    },
    {
     "name": "stdout",
     "output_type": "stream",
     "text": [
      "Epoch 85/100, Loss: 0.6075\n"
     ]
    },
    {
     "name": "stderr",
     "output_type": "stream",
     "text": [
      "                                                               \r"
     ]
    },
    {
     "name": "stdout",
     "output_type": "stream",
     "text": [
      "Epoch 86/100, Loss: 0.6048\n"
     ]
    },
    {
     "name": "stderr",
     "output_type": "stream",
     "text": [
      "                                                               \r"
     ]
    },
    {
     "name": "stdout",
     "output_type": "stream",
     "text": [
      "Epoch 87/100, Loss: 0.6037\n"
     ]
    },
    {
     "name": "stderr",
     "output_type": "stream",
     "text": [
      "                                                               \r"
     ]
    },
    {
     "name": "stdout",
     "output_type": "stream",
     "text": [
      "Epoch 88/100, Loss: 0.6069\n"
     ]
    },
    {
     "name": "stderr",
     "output_type": "stream",
     "text": [
      "                                                               \r"
     ]
    },
    {
     "name": "stdout",
     "output_type": "stream",
     "text": [
      "Epoch 89/100, Loss: 0.6051\n"
     ]
    },
    {
     "name": "stderr",
     "output_type": "stream",
     "text": [
      "                                                               \r"
     ]
    },
    {
     "name": "stdout",
     "output_type": "stream",
     "text": [
      "Epoch 90/100, Loss: 0.6075\n"
     ]
    },
    {
     "name": "stderr",
     "output_type": "stream",
     "text": [
      "                                                               \r"
     ]
    },
    {
     "name": "stdout",
     "output_type": "stream",
     "text": [
      "Epoch 91/100, Loss: 0.6060\n"
     ]
    },
    {
     "name": "stderr",
     "output_type": "stream",
     "text": [
      "                                                               \r"
     ]
    },
    {
     "name": "stdout",
     "output_type": "stream",
     "text": [
      "Epoch 92/100, Loss: 0.6060\n"
     ]
    },
    {
     "name": "stderr",
     "output_type": "stream",
     "text": [
      "                                                               \r"
     ]
    },
    {
     "name": "stdout",
     "output_type": "stream",
     "text": [
      "Epoch 93/100, Loss: 0.6059\n"
     ]
    },
    {
     "name": "stderr",
     "output_type": "stream",
     "text": [
      "                                                               \r"
     ]
    },
    {
     "name": "stdout",
     "output_type": "stream",
     "text": [
      "Epoch 94/100, Loss: 0.6038\n"
     ]
    },
    {
     "name": "stderr",
     "output_type": "stream",
     "text": [
      "                                                               \r"
     ]
    },
    {
     "name": "stdout",
     "output_type": "stream",
     "text": [
      "Epoch 95/100, Loss: 0.6066\n"
     ]
    },
    {
     "name": "stderr",
     "output_type": "stream",
     "text": [
      "                                                               \r"
     ]
    },
    {
     "name": "stdout",
     "output_type": "stream",
     "text": [
      "Epoch 96/100, Loss: 0.6067\n"
     ]
    },
    {
     "name": "stderr",
     "output_type": "stream",
     "text": [
      "                                                               \r"
     ]
    },
    {
     "name": "stdout",
     "output_type": "stream",
     "text": [
      "Epoch 97/100, Loss: 0.6081\n"
     ]
    },
    {
     "name": "stderr",
     "output_type": "stream",
     "text": [
      "                                                               \r"
     ]
    },
    {
     "name": "stdout",
     "output_type": "stream",
     "text": [
      "Epoch 98/100, Loss: 0.6065\n"
     ]
    },
    {
     "name": "stderr",
     "output_type": "stream",
     "text": [
      "                                                               \r"
     ]
    },
    {
     "name": "stdout",
     "output_type": "stream",
     "text": [
      "Epoch 99/100, Loss: 0.6058\n"
     ]
    },
    {
     "name": "stderr",
     "output_type": "stream",
     "text": [
      "                                                                "
     ]
    },
    {
     "name": "stdout",
     "output_type": "stream",
     "text": [
      "Epoch 100/100, Loss: 0.6043\n",
      "Training Complete!\n"
     ]
    },
    {
     "name": "stderr",
     "output_type": "stream",
     "text": [
      "\r"
     ]
    }
   ],
   "source": [
    "LEARNING_RATE = 0.001\n",
    "HIDDEN_SIZE = 512\n",
    "NUM_EPOCHS = 100\n",
    "BATCH_SIZE = 16\n",
    "NUM_TRIALS = NUM_EPOCHS * BATCH_SIZE * 2\n",
    "\n",
    "model = MDN_RNN(HIDDEN_SIZE)\n",
    "optimizer = torch.optim.AdamW(model.parameters(), lr=LEARNING_RATE, betas=(0.99, 0.999), weight_decay=1e-4)\n",
    "scheduler = CosineAnnealingLR(optimizer, T_max=NUM_EPOCHS, eta_min=1e-6)\n",
    "\n",
    "dataset = TrialDataset(num_samples=NUM_TRIALS)\n",
    "dataloader = DataLoader(dataset, batch_size=BATCH_SIZE, shuffle=True)\n",
    "\n",
    "for epoch in range(NUM_EPOCHS):\n",
    "    epoch_loss = 0\n",
    "    \n",
    "    progress_bar = tqdm(dataloader, desc=f\"Epoch {epoch+1}/{NUM_EPOCHS}\", leave=False)\n",
    "\n",
    "    for inputs, targets in progress_bar: #dataloader\n",
    "        optimizer.zero_grad()\n",
    "\n",
    "        # Forward Pass\n",
    "        pi, mu, sigma = model(inputs)\n",
    "        loss = mdn_loss(pi, mu, sigma, targets)\n",
    "        \n",
    "        # Backward Pass\n",
    "        loss.backward()\n",
    "        \n",
    "        # Optimization Step\n",
    "        optimizer.step()\n",
    "\n",
    "        epoch_loss += loss.item()\n",
    "\n",
    "    scheduler.step()\n",
    "    print(f\"Epoch {epoch + 1}/{NUM_EPOCHS}, Loss: {epoch_loss / len(dataloader):.4f}\")\n",
    "\n",
    "torch.save(model.state_dict(), 'model_weights_5.pth')\n",
    "\n",
    "print(\"Training Complete!\")"
   ]
  },
  {
   "cell_type": "markdown",
   "metadata": {},
   "source": [
    "#### Load Model"
   ]
  },
  {
   "cell_type": "code",
   "execution_count": null,
   "metadata": {},
   "outputs": [
    {
     "data": {
      "text/plain": [
       "<All keys matched successfully>"
      ]
     },
     "execution_count": 57,
     "metadata": {},
     "output_type": "execute_result"
    }
   ],
   "source": [
    "model = RNN(HIDDEN_SIZE)\n",
    "model.load_state_dict(torch.load('model_weights_5.pth', weights_only=True))"
   ]
  },
  {
   "cell_type": "markdown",
   "metadata": {},
   "source": [
    "#### Test Model Performance"
   ]
  },
  {
   "cell_type": "code",
   "execution_count": 54,
   "metadata": {},
   "outputs": [],
   "source": [
    "dataset = TrialDataset(num_samples=NUM_TRIALS)\n",
    "\n",
    "def visualize_performance():\n",
    "    # Select a random sample from the dataset\n",
    "    sample_idx = np.random.randint(0, len(dataset))\n",
    "    inputs, targets = dataset[sample_idx]\n",
    "    inputs = inputs.unsqueeze(0)\n",
    "\n",
    "    # Forward pass through the MDN_RNN\n",
    "    pi, mu, sigma = model(inputs)\n",
    "\n",
    "    # Remove batch dimension and convert to numpy\n",
    "    pi = pi.unsqueeze(-2).expand_as(mu)\n",
    "    pi = pi.squeeze(0).detach().numpy()  # Shape: (SEQ_LEN, num_states, num_gaussians)\n",
    "    mu = mu.squeeze(0).detach().numpy()  # Shape: (SEQ_LEN, num_states, num_gaussians)\n",
    "    sigma = sigma.squeeze(0).detach().numpy()  # Shape: (SEQ_LEN, num_states, num_gaussians)\n",
    "\n",
    "    # Compute weighted mean over the mixture components for each output\n",
    "    weighted_mu = np.sum(pi * mu, axis=-1)  # Shape: (SEQ_LEN, num_states)\n",
    "    weighted_sigma = np.sqrt(np.sum(pi * (sigma**2 + mu**2), axis=-1) - weighted_mu**2)  # Law of total variance\n",
    "\n",
    "    # Generate time array\n",
    "    time = np.arange(SEQ_LEN) / SAMPLE_RATE\n",
    "\n",
    "    plt.figure(figsize=(12, 12))\n",
    "\n",
    "    # Plot input signals\n",
    "    plt.subplot(5, 1, 1)\n",
    "    plt.plot(time, inputs.squeeze().numpy(), label='Input', color='red', linestyle='dotted')\n",
    "    plt.ylim(-0.7, 0.7)\n",
    "    plt.legend()\n",
    "\n",
    "    # Plot target outputs vs predicted weighted mean\n",
    "    labels = ['Evidence Accumulation', 'Accept', 'Reject']\n",
    "    colors = ['orange', 'green', 'red']\n",
    "\n",
    "    for i in range(3):\n",
    "        plt.subplot(5, 1, i + 2)\n",
    "        plt.plot(time, weighted_mu[:, i], label=f'{labels[i]} (Predicted)', color=colors[i])\n",
    "        plt.fill_between(time, \n",
    "                         weighted_mu[:, i] - weighted_sigma[:, i], \n",
    "                         weighted_mu[:, i] + weighted_sigma[:, i], \n",
    "                         color=colors[i], alpha=0.3)\n",
    "        plt.plot(time, targets[:, i].numpy(), label=f'{labels[i]} (True)', color='black', linestyle='dotted')\n",
    "        plt.ylim(-1, 2)\n",
    "        plt.legend()\n",
    "\n",
    "    plt.xlabel(\"Time (s)\")\n",
    "    plt.show()\n"
   ]
  },
  {
   "cell_type": "code",
   "execution_count": 62,
   "metadata": {},
   "outputs": [
    {
     "data": {
      "image/png": "[encoded data removed]",
      "text/plain": [
       "<Figure size 1200x1200 with 4 Axes>"
      ]
     },
     "metadata": {},
     "output_type": "display_data"
    }
   ],
   "source": [
    "visualize_performance()"
   ]
  },
  {
   "cell_type": "code",
   "execution_count": null,
   "metadata": {},
   "outputs": [],
   "source": [
    "dataset = TrialDataset(num_samples=1000, mode='full')\n",
    "dataloader = DataLoader(dataset, batch_size=1, shuffle=True)\n",
    "\n",
    "total_trials = [0, 0, 0, 0]         # [0%, 20%, 80%, 100%]\n",
    "total_accepts_data = [0, 0, 0, 0]   # [0%, 20%, 80%, 100%]\n",
    "total_accepts_model = [0, 0, 0, 0]  # [0%, 20%, 80%, 100%]\n",
    "peak_time_data = []\n",
    "peak_time_model = []\n",
    "\n",
    "for i in range(1000):\n",
    "    inputs, target = next(iter(dataloader))\n",
    "    f = model(inputs)\n",
    "\n",
    "    trial_type_idx = 0\n",
    "\n",
    "    if inputs[0].numpy()[0] == -0.5:\n",
    "        trial_type_idx = 0\n",
    "    elif inputs[0].numpy()[0] > -0.4 and inputs[0].numpy()[0] < -0.1:\n",
    "        trial_type_idx = 1\n",
    "    elif inputs[0].numpy()[0] > 0.1 and inputs[0].numpy()[0] < 0.4:\n",
    "        trial_type_idx = 2\n",
    "    elif inputs[0].numpy()[0] == 0.5:\n",
    "        trial_type_idx = 3\n",
    "\n",
    "    total_trials[trial_type_idx] += 1\n",
    "    \n",
    "    data_accept, model_accept = False, False\n",
    "\n",
    "    if np.mean(target[0].numpy()) > 0.5:\n",
    "        data_accept = True \n",
    "    if np.mean(f[0].detach().numpy()) > 0:\n",
    "        model_accept = True \n",
    "\n",
    "    data_peak, model_peak = 0, 0\n",
    "\n",
    "    if data_accept:\n",
    "        total_accepts_data[trial_type_idx] += 1\n",
    "        data_peak = np.argmax(target[0].numpy())\n",
    "    elif not data_accept:\n",
    "        data_peak = np.argmin(target[0].numpy())\n",
    "    \n",
    "    if model_accept:\n",
    "        total_accepts_model[trial_type_idx] += 1\n",
    "        model_peak = np.argmax(f[0].detach().numpy())\n",
    "    elif not model_accept:\n",
    "        model_peak = np.argmin(f[0].detach().numpy())\n",
    "\n",
    "    peak_time_data.append(data_peak / SAMPLE_RATE)\n",
    "    peak_time_model.append(model_peak / SAMPLE_RATE)\n",
    "    \n",
    "print(\"Data Accept Percentages: \", np.divide(total_accepts_data, total_trials))\n",
    "print(\"Model Accept Percentages: \", np.divide(total_accepts_model, total_trials))\n",
    "\n",
    "bins = np.linspace(0, 4, 40)\n",
    "plt.figure()\n",
    "plt.subplot(2, 1, 1)\n",
    "plt.hist(peak_time_model, bins, label='Model Accept Time Distribution')\n",
    "plt.legend(loc='upper right')\n",
    "plt.subplot(2, 1, 2)\n",
    "plt.hist(peak_time_data, bins, label='Data Accept Time Distribution')\n",
    "plt.legend(loc='upper right')\n",
    "plt.show()\n"
   ]
  },
  {
   "cell_type": "markdown",
   "metadata": {},
   "source": [
    "#### Visualize Training Data"
   ]
  },
  {
   "cell_type": "code",
   "execution_count": 28,
   "metadata": {},
   "outputs": [
    {
     "data": {
      "image/png": "[encoded data removed]",
      "text/plain": [
       "<Figure size 1200x600 with 2 Axes>"
      ]
     },
     "metadata": {},
     "output_type": "display_data"
    }
   ],
   "source": [
    "import matplotlib.pyplot as plt\n",
    "\n",
    "NUM_EPOCHS = 100\n",
    "BATCH_SIZE = 16\n",
    "NUM_TRIALS = NUM_EPOCHS * BATCH_SIZE * 2\n",
    "\n",
    "def plot_trial():\n",
    "    \"\"\"\n",
    "    Plot the input signal and target outputs for a single trial.\n",
    "    \"\"\"\n",
    "    dataset = TrialDataset(num_samples=NUM_TRIALS)\n",
    "    dataloader = DataLoader(dataset, batch_size=BATCH_SIZE, shuffle=True)\n",
    "\n",
    "    sample_idx = np.round(np.random.randint(0, len(dataset) + 1))\n",
    "    \n",
    "    inputs, target_outputs = dataset[sample_idx]\n",
    "\n",
    "    time = np.arange(len(inputs)) / SAMPLE_RATE  # Convert to seconds\n",
    "    \n",
    "    plt.figure(figsize=(12, 6))\n",
    "    \n",
    "    # Plot input\n",
    "    plt.subplot(2, 1, 1)\n",
    "    plt.plot(time, inputs.numpy(), color='green', label='Input')\n",
    "    plt.title(\"Input Signal\")\n",
    "    plt.xlabel(\"Time\")\n",
    "    plt.ylabel(\"Input\")\n",
    "    plt.ylim(-1.2, 1.2)\n",
    "    plt.grid(True)\n",
    "    plt.legend()\n",
    "    \n",
    "    # Plot target output\n",
    "    plt.subplot(2, 1, 2)\n",
    "    plt.plot(time, target_outputs[:, 0].numpy(), color='orange', label='Evidence Accumulation')\n",
    "    plt.plot(time, target_outputs[:, 1].numpy(), color='green', label='Accept')\n",
    "    plt.plot(time, target_outputs[:, 2].numpy(), color='red', label='Reject')\n",
    "    plt.title(\"Target Outputs\")\n",
    "    plt.xlabel(\"Time\")\n",
    "    plt.ylabel(\"Magnitude\")\n",
    "    plt.ylim(-0.2, 1.2)\n",
    "    plt.grid(True)\n",
    "    plt.legend()\n",
    "    \n",
    "    plt.tight_layout()\n",
    "    plt.show()\n",
    "\n",
    "# Plot the trial\n",
    "plot_trial()\n"
   ]
  },
  {
   "cell_type": "code",
   "execution_count": null,
   "metadata": {},
   "outputs": [],
   "source": []
  }
 ],
 "metadata": {
  "kernelspec": {
   "display_name": "Python 3",
   "language": "python",
   "name": "python3"
  },
  "language_info": {
   "codemirror_mode": {
    "name": "ipython",
    "version": 3
   },
   "file_extension": ".py",
   "mimetype": "text/x-python",
   "name": "python",
   "nbconvert_exporter": "python",
   "pygments_lexer": "ipython3",
   "version": "3.9.6"
  }
 },
 "nbformat": 4,
 "nbformat_minor": 2
}
